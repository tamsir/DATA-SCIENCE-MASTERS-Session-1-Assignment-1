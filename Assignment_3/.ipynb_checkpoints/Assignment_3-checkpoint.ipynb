{
 "cells": [
  {
   "cell_type": "markdown",
   "metadata": {},
   "source": [
    "# Pyhton 1: Assignment 3"
   ]
  },
  {
   "cell_type": "markdown",
   "metadata": {},
   "source": [
    "### 1.  Write a Python Program to implement your own myreduce() function which works exactly like Python's built-in function reduce()"
   ]
  },
  {
   "cell_type": "code",
   "execution_count": 29,
   "metadata": {},
   "outputs": [
    {
     "data": {
      "text/plain": [
       "432"
      ]
     },
     "execution_count": 29,
     "metadata": {},
     "output_type": "execute_result"
    }
   ],
   "source": [
    "def myreduce(myfunction, myliste):\n",
    "    # First I use myliste[0] to get the first element of the list\n",
    "    value = myliste[0]\n",
    "    # After I use the for loop to iterate over myliste using myfunction \n",
    "    # The first iteration use myliste[0] and myliste[0]+1 for traiting myfunction and save the result in value\n",
    "    # The next use the previous value and the next for for traiting myfunction  \n",
    "    for item in myliste[1:]:\n",
    "        value = myfunction(value, item)\n",
    "    else:\n",
    "        # End at the end of myliste I return value\n",
    "        return value\n",
    "\n",
    "# Now I test myreduce function\n",
    "def multiple(x,y): \n",
    "    return x*y\n",
    "\n",
    "myreduce(multiple, [2, 4, 6, 9])\n",
    "    "
   ]
  },
  {
   "cell_type": "markdown",
   "metadata": {},
   "source": [
    "### 2. Write a Python program to implement your own myfilter() function which works exactly like Python's built-in function filter()"
   ]
  },
  {
   "cell_type": "code",
   "execution_count": 35,
   "metadata": {},
   "outputs": [
    {
     "data": {
      "text/plain": [
       "[3, 6, 9]"
      ]
     },
     "execution_count": 35,
     "metadata": {},
     "output_type": "execute_result"
    }
   ],
   "source": [
    "def myfilter(myfunction, myliste):\n",
    "    #First I create an empty liste to add all the that satisfy myfunction\n",
    "    liste = []\n",
    "    # After I use a for loop to iterate over the liste and if the current element satisfy to my myfunction, I add it to myliste \n",
    "    for item in myliste:\n",
    "        if myfunction(item):\n",
    "            liste.append(item)\n",
    "    else:\n",
    "        # And finally I return my liste with all the right element \n",
    "        return liste\n",
    "    \n",
    "    \n",
    "# Now I test myfilter function\n",
    "def multipleof3(x): \n",
    "    return x%3 == 0  \n",
    "\n",
    "myfilter(multipleof3, [2, 3, 5,6 ,9 ,34 , 43])"
   ]
  },
  {
   "cell_type": "code",
   "execution_count": null,
   "metadata": {},
   "outputs": [],
   "source": []
  }
 ],
 "metadata": {
  "kernelspec": {
   "display_name": "Python 3",
   "language": "python",
   "name": "python3"
  },
  "language_info": {
   "codemirror_mode": {
    "name": "ipython",
    "version": 3
   },
   "file_extension": ".py",
   "mimetype": "text/x-python",
   "name": "python",
   "nbconvert_exporter": "python",
   "pygments_lexer": "ipython3",
   "version": "3.6.6"
  }
 },
 "nbformat": 4,
 "nbformat_minor": 2
}
