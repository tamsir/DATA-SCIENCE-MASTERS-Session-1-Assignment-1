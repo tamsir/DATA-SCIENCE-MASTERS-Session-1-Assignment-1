{
 "cells": [
  {
   "cell_type": "markdown",
   "metadata": {},
   "source": [
    "# Pyhton 1: Assignment 4"
   ]
  },
  {
   "cell_type": "markdown",
   "metadata": {},
   "source": [
    "### 1.1 Write a Python Program(with class concepts) to find the area of the triangle using the below formula."
   ]
  },
  {
   "cell_type": "code",
   "execution_count": null,
   "metadata": {},
   "outputs": [],
   "source": [
    "# area = (s*(s-a)*(s-b)*(s-c)) ** 0.5\n",
    "\n",
    "# First a create a class to define a triangle. We known that a triangle have 3 side: s1, s2 and s3\n",
    "class TriangleDim:\n",
    "    def __init__(self, s1, s2, s3):\n",
    "        self.s1 = s1\n",
    "        self.s2 = s2     \n",
    "        self.s3 = s3\n",
    "    \n",
    "# Second a create a class that take a Triangle object and calculate the area with the method calculateArea\n",
    "class TriangleArea(TriangleDim):\n",
    "    def __init__(self, s1, s2, s3):\n",
    "        super(TriangleArea, self).__init__(s1, s2, s3)\n",
    "        \n",
    "    def calculateArea(self):\n",
    "        s = (self.s1 + self.s2 + self.s3)/2\n",
    "        return (s*(s-self.s1)*(s-self.s2)*(s-self.s3))**0.5\n",
    "     \n",
    "# At the end I test my class TriangleArea\n",
    "triangleObjet = TriangleArea(10,5,13)\n",
    "print (\"Area of triangle {}\".format(triangleObjet.calculateArea()))"
   ]
  },
  {
   "cell_type": "markdown",
   "metadata": {},
   "source": [
    "### 1.2 Write a function filter_long_words() that takes a list of words and an integer n and returns the list of words that are longer than n."
   ]
  },
  {
   "cell_type": "code",
   "execution_count": null,
   "metadata": {},
   "outputs": [],
   "source": [
    "# First a create an example of list \n",
    "myList = ['My', 'name', 'is', 'Tamsir', 'Sene']\n",
    "\n",
    "# Second I use the filter function to add to the list longestWord all the word than the len is > to 4 \n",
    "longestWord = list(filter(lambda x:(x in myList) and (len(x)>4), myList))\n",
    "\n",
    "# At the end I print the result\n",
    "print(\"The word that the len is > to 4 is {}\".format(longestWord))"
   ]
  },
  {
   "cell_type": "markdown",
   "metadata": {},
   "source": [
    "### 2.1 Write a Python program using function concept that maps list of words into a list of integers representing the lengths of the corresponding words."
   ]
  },
  {
   "cell_type": "code",
   "execution_count": null,
   "metadata": {},
   "outputs": [],
   "source": [
    "# First I write a function that return the lengths of a word\n",
    "myList = ['My', 'name', 'is', 'Tamsir', 'Sene']\n",
    "\n",
    "# Second I create a function that return the len of a word\n",
    "def wordlen(word):\n",
    "    return len(word)\n",
    "\n",
    "# I use the function map(function,list)\n",
    "listlenght = list(map(wordlen, myList))\n",
    "print(\"lengths of the corresponding words\",listlenght)"
   ]
  },
  {
   "cell_type": "markdown",
   "metadata": {},
   "source": [
    "### 2.2 Write a Python function which takes a character (i.e. a string of length 1) and returns True if it is a vowel, False otherwise."
   ]
  },
  {
   "cell_type": "code",
   "execution_count": 6,
   "metadata": {},
   "outputs": [
    {
     "name": "stdout",
     "output_type": "stream",
     "text": [
      "The caracter given by user is vowel\n"
     ]
    }
   ],
   "source": [
    "# I first define a list that represent all the vowel\n",
    "vowel = ['a', 'e', 'i', 'o', 'u', 'y']\n",
    "\n",
    "# I create a function that take the caracter given by the user and test if it's in vowel list\n",
    "def getVowel(character):\n",
    "        if character in vowel:\n",
    "            print(\"The caracter given by user is vowel\")\n",
    "        else:\n",
    "            print(\"The caracter given by user is not vowel\")\n",
    "    \n",
    "# I test the function\n",
    "getVowel(\"y\")"
   ]
  },
  {
   "cell_type": "code",
   "execution_count": null,
   "metadata": {},
   "outputs": [],
   "source": []
  }
 ],
 "metadata": {
  "kernelspec": {
   "display_name": "Python 3",
   "language": "python",
   "name": "python3"
  },
  "language_info": {
   "codemirror_mode": {
    "name": "ipython",
    "version": 3
   },
   "file_extension": ".py",
   "mimetype": "text/x-python",
   "name": "python",
   "nbconvert_exporter": "python",
   "pygments_lexer": "ipython3",
   "version": "3.6.6"
  }
 },
 "nbformat": 4,
 "nbformat_minor": 2
}
