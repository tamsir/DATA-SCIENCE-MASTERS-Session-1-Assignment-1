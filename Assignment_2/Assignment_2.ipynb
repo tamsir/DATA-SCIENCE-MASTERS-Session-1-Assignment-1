{
 "cells": [
  {
   "cell_type": "markdown",
   "metadata": {},
   "source": [
    "# Session 1: Assignment 1"
   ]
  },
  {
   "cell_type": "markdown",
   "metadata": {},
   "source": [
    "### 1. Write a program which accepts a sequence of comma-separated numbers from console and generate a list."
   ]
  },
  {
   "cell_type": "code",
   "execution_count": 6,
   "metadata": {},
   "outputs": [
    {
     "name": "stdout",
     "output_type": "stream",
     "text": [
      "Enter a sequence of comma-separated numbers: 2,7,90,23,54,21\n",
      "Generate list ['2', '7', '90', '23', '54', '21']\n"
     ]
    }
   ],
   "source": [
    "list_cs = input(\"Enter a sequence of comma-separated numbers: \")\n",
    "print(\"Generate list\", list_cs.split(\",\"))"
   ]
  },
  {
   "cell_type": "markdown",
   "metadata": {},
   "source": [
    "### 2. Create the below pattern using nested for loop in Python."
   ]
  },
  {
   "cell_type": "code",
   "execution_count": 7,
   "metadata": {},
   "outputs": [
    {
     "name": "stdout",
     "output_type": "stream",
     "text": [
      "*\n",
      "**\n",
      "***\n",
      "****\n",
      "*****\n",
      "****\n",
      "***\n",
      "**\n",
      "*\n"
     ]
    }
   ],
   "source": [
    "stars = [1,2,3,4,5,4,3,2,1]\n",
    "for star in stars:\n",
    "    print(\"*\"*star)"
   ]
  },
  {
   "cell_type": "markdown",
   "metadata": {},
   "source": [
    "### 3. Write a Python program to reverse a word after accepting the input from the user."
   ]
  },
  {
   "cell_type": "code",
   "execution_count": 8,
   "metadata": {},
   "outputs": [
    {
     "name": "stdout",
     "output_type": "stream",
     "text": [
      "dliGdacA\n"
     ]
    }
   ],
   "source": [
    "input_str = \"AcadGild\"\n",
    "input_str_rev = input_str[-1::-1]\n",
    "print(input_str_rev)"
   ]
  },
  {
   "cell_type": "markdown",
   "metadata": {},
   "source": [
    "### 4. Write a Python Program to print the given string in the format specified in the sample output."
   ]
  },
  {
   "cell_type": "code",
   "execution_count": 10,
   "metadata": {},
   "outputs": [
    {
     "name": "stdout",
     "output_type": "stream",
     "text": [
      "WE, THE PEOPLE OF INDIA,\n",
      "\thaving solemnly resolved to constitute India into a SOVEREIGN, !\n",
      "\t\tSOCIALIST, SECULAR, DEMOCRATIC REPUBLIC\n",
      "\t\tand to secure to all its citizens\n"
     ]
    }
   ],
   "source": [
    "str_long_text = \"WE, THE PEOPLE OF INDIA, having solemnly resolved to constitute India into a SOVEREIGN, SOCIALIST, SECULAR, DEMOCRATIC REPUBLIC and to secure to all its citizens\"\n",
    "str1 = \"WE, THE PEOPLE OF INDIA,\"\n",
    "str2 = \"having solemnly resolved to constitute India into a SOVEREIGN, !\"\n",
    "str3 = \"SOCIALIST, SECULAR, DEMOCRATIC REPUBLIC\"\n",
    "str4 = \"and to secure to all its citizens\"\n",
    "\n",
    "print(\"{}\\n\\t{}\\n\\t\\t{}\\n\\t\\t{}\".format(str1, str2, str3, str4))"
   ]
  },
  {
   "cell_type": "code",
   "execution_count": null,
   "metadata": {},
   "outputs": [],
   "source": []
  }
 ],
 "metadata": {
  "kernelspec": {
   "display_name": "Python 3",
   "language": "python",
   "name": "python3"
  },
  "language_info": {
   "codemirror_mode": {
    "name": "ipython",
    "version": 3
   },
   "file_extension": ".py",
   "mimetype": "text/x-python",
   "name": "python",
   "nbconvert_exporter": "python",
   "pygments_lexer": "ipython3",
   "version": "3.6.6"
  }
 },
 "nbformat": 4,
 "nbformat_minor": 2
}
